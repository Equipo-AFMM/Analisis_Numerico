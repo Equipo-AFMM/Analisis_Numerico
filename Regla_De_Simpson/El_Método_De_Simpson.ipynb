{
 "cells": [
  {
   "cell_type": "markdown",
   "metadata": {},
   "source": [
    "\n",
    "# *****------------------ METODO DE SIMPSON ------------------*****"
   ]
  },
  {
   "cell_type": "markdown",
   "metadata": {},
   "source": [
    "## Grupo: 4EM24\n",
    "\n",
    "## Intregantes: \n",
    "\n",
    "## Angeles Lariz Andrés\n",
    "## Flores Castillo Raúl Joshua\n",
    "## Martinez Martinez Alejandra\n",
    "## Muñoz Galicia Luis Antonio"
   ]
  },
  {
   "cell_type": "markdown",
   "metadata": {},
   "source": [
    "# INTRODUCCIÓN\n",
    "\n",
    "## Existen dos posibles pasos a seguir si no se puede llegar a una solución analítica de alguna integral.\n",
    "\n",
    "## 1. Hacer algunas aproximaciones, haciendo algún parámetro pequeño, análisis asintótico, etc.\n",
    "\n",
    "## 2. Hacer la integración numérica.\n"
   ]
  },
  {
   "cell_type": "markdown",
   "metadata": {},
   "source": [
    "\n",
    "## En este aso se usara la integración numérica, es una herramienta de las matemáticas que proporciona fórmulas y técnicas para calcular aproximaciones de integrales definidas. Gracias a ella se pueden calcular, aunque sea de forma aproximada, valores de integrales definidas que no pueden calcularse analíticamente y, sobre todo, se puede realizar ese cálculo en un computador. La Integración numérica es uno de los métodos más citados dentro del campo de la Ingeniería, en general. De gran aplicación en todas las áreas de ciencia y tecnología, pues consiste en encontrar el área bajo la curva de una función tabular, usando diversas técnicas que permitan aproximar de la mejor manera el valor correcto."
   ]
  },
  {
   "cell_type": "markdown",
   "metadata": {},
   "source": [
    "# DESARROLLO\n",
    "## La necesidad de aproximar numéricamente el valor de una integral surge por dos motivos fundamentalmente:\n",
    "\n",
    "## -          La dificultad o imposibilidad en el cálculo de una primitiva.\n",
    "\n",
    "## -          La función a integrar sólo se conoce por una tabla de valores."
   ]
  },
  {
   "cell_type": "markdown",
   "metadata": {},
   "source": [
    "## Los algoritmos de integración numérica o cuadratura numérica, permiten solucionar problemas de ciencias e ingeniería; tales como el cálculo de áreas, volúmenes, mecánica  aplicada, y ecuaciones diferenciales (sistemas dinámicos)"
   ]
  },
  {
   "cell_type": "markdown",
   "metadata": {},
   "source": [
    "#                                               INTEGRACIÓN NUMÉRICA:\n",
    "\n",
    "## La integración numérica constituye una amplia gama de algoritmos para calcular el valor numérico de una integral definida y, por extensión, el término se usa a veces para describir algoritmos numéricos para resolver ecuaciones diferenciales. La principal razón para usar la integración numérica puede ser la imposibilidad de realizar la integración de forma analítica. Es decir, integrales que requerirían de un gran conocimiento y manejo de matemática avanzada pueden ser resueltas de una manera más sencilla mediante métodos numéricos."
   ]
  },
  {
   "cell_type": "markdown",
   "metadata": {},
   "source": [
    "# APLICACIONES DE LA INTEGRACIÓN NUMÉRICA:\n",
    "\n",
    "## La gran utilidad que poseen las integrales en las diferentes ramas de la Geometría, la Física, la Química, las Ciencias Económicas y, prácticamente, en todas las ramas del saber, se ven reflejadas cada día más en nuestra vida profesional, como en el cálculo de áreas, volúmenes, mecánica  aplicada, ecuaciones diferenciales; entre otras. \n",
    "## Por ejemplo en la industria de la construcción de edificios, los ingenieros necesitan realizar la evaluación de los elementos de las matrices de flexibilidades así como los giros de fijación, los cuales requieren del proceso matemático de integración. Para elementos de sección variable, en la mayoría de los casos, el realizar la integración analítica resulta bastante tedioso y poco práctico, por lo que es más adecuada la aplicación de integración numérica."
   ]
  },
  {
   "cell_type": "markdown",
   "metadata": {},
   "source": [
    "# ALGORITMOS DE INTEGRACIÓN NUMÉRICA:\n",
    "\n",
    "## La Integración Numérica comprende una amplia familia de algoritmos para el cálculo del valor numérico de una integral definida. En la mayoría de los casos, ese valor numérico es un valor aproximado de la integral definida.\n",
    "\n",
    "## Puede haber varias razones por la cuales se desee o se necesite calcular el valor numérico aproximado de una integral definida:"
   ]
  },
  {
   "cell_type": "markdown",
   "metadata": {},
   "source": [
    "## -          La función integrando es desconocida, pero se conocen algunos puntos de la función, por ejemplo puntos de datos obtenidos experimentalmente.\n",
    "\n",
    "## -          La función integrando no tiene función primitiva.\n",
    "\n",
    "## -          La función primitiva es conocida pero es más conveniente o más sencillo calcular numéricamente la integral definida."
   ]
  },
  {
   "cell_type": "markdown",
   "metadata": {},
   "source": [
    "## Las formulas de cuadratura de Newton-Cotes son los procedimientos más comunes de integración numérica, se basan en la estrategia de reemplazar una función complicada o datos tabulados con una función aproximada que sea fácil de integrar, estas son:\n",
    "\n",
    "## -  El método Trapezoidal.\n",
    "\n",
    "## - El método de Simpson."
   ]
  },
  {
   "cell_type": "markdown",
   "metadata": {},
   "source": [
    "## ** En Este Proyecto Solo Se Va Abarcar El Tema De Metodo De Simpson **"
   ]
  },
  {
   "cell_type": "markdown",
   "metadata": {},
   "source": [
    "\n",
    "\n",
    "\n",
    "\n",
    "\n",
    "\n",
    "\n",
    "\n",
    "# MÉTODO DE SIMPSON:"
   ]
  },
  {
   "cell_type": "markdown",
   "metadata": {},
   "source": [
    "## El Método de Simpson sustituye a la curva y = f (x) por una serie de arcos contiguos, cada uno de estos arcos es un arco de parábola de eje vertical. Esto nos lleva a aproximar el área bajo la curva mediante la suma de las áreas bajo cada arco de parábola. \n",
    "## La fórmula fue utilizada por primera vez por Evangelista Torricelli, pero debe su nombre al matemático Inglés Thomas Simpson. Corresponde a la regla del tonel que Johannes Kepler ya había formulado en 1615."
   ]
  },
  {
   "cell_type": "markdown",
   "metadata": {},
   "source": [
    "## El procedimiento es similar al de los Trapecios, con la siguiente condición:\n",
    "\n",
    "## -          El número  n de subintervalos debe ser un número par.\n",
    "\n",
    "## Esta condición surge del hecho que para definir la ecuación de una parábola se necesitan tres puntos."
   ]
  },
  {
   "cell_type": "markdown",
   "metadata": {},
   "source": [
    "# REGLAS DE SIMPSON:\n",
    "\n",
    "## Otra manera de obtener una estimación más exacta de una integral, es la de usar polinomios de orden superior para conectar los puntos. Por ejemplo, si hay un punto medio extra entre f(a) y f(b), entonces los tres puntos se pueden conectar con un polinomio de tercer orden.\n",
    "\n",
    "## A las fórmulas resultantes de calcular la integral bajo estos polinomios se les llaman Reglas de Simpson."
   ]
  },
  {
   "cell_type": "markdown",
   "metadata": {},
   "source": [
    "# REGLA DE SIMPSON 1/3\n",
    "\n"
   ]
  },
  {
   "cell_type": "markdown",
   "metadata": {},
   "source": [
    "## Se usa para la “integración cerrada” es decir, para cuando los valores de la función en los extremos de los límites de integración son conocidos. La regla de Simpson de 1/3 proporciona una aproximación más precisa, ya que consiste en conectar grupos sucesivos de tres puntos sobre la curva mediante parábolas de segundo grado, y sumar las áreas bajo las parábolas para obtener el área aproximada bajo la curva."
   ]
  },
  {
   "cell_type": "markdown",
   "metadata": {},
   "source": [
    "## La regla de Simpson 1/3 resulta cuando un polinomio de interpolación de segundo grado se sustituye en la ecuación:"
   ]
  },
  {
   "cell_type": "markdown",
   "metadata": {},
   "source": [
    "## $$I = \\int_a^b f(x) dx  '\\cong ' \\int_a^b f_2 (x) dx$$"
   ]
  },
  {
   "cell_type": "markdown",
   "metadata": {},
   "source": [
    "## Después de la integración y de las manipulaciones algebraicas, se obtiene la siguiente fórmula:"
   ]
  },
  {
   "cell_type": "markdown",
   "metadata": {},
   "source": [
    "## $$I '\\cong' \\frac{h}{3} [f(x_0) + 4f(x_1) + f(x_2)]$$"
   ]
  },
  {
   "cell_type": "markdown",
   "metadata": {},
   "source": [
    "## Y el error es:"
   ]
  },
  {
   "cell_type": "markdown",
   "metadata": {},
   "source": [
    "## $$E_t = - [(b – a)^5/2880)]f^4 (z)$$"
   ]
  },
  {
   "cell_type": "markdown",
   "metadata": {},
   "source": [
    "## Siendo (z) un número entre a y b.\n",
    "\n"
   ]
  },
  {
   "cell_type": "markdown",
   "metadata": {},
   "source": [
    "# REGLA DE SIMPSON 3/8\n",
    "\n"
   ]
  },
  {
   "cell_type": "markdown",
   "metadata": {},
   "source": [
    "## La derivación de la Regla de los Tres Octavos de Simpson es similar a la regla de 1/3, excepto que se determina el área bajo una parábola de tercer grado que conecta cuatro puntos sobre una curva dada."
   ]
  },
  {
   "cell_type": "markdown",
   "metadata": {},
   "source": [
    "## De manera similar a la obtención de la regla del trapecio y Simpson 1/3, es posible ajustar un polinomio de Lagrange de tercer grado a cuatro puntos e integrarlo:"
   ]
  },
  {
   "cell_type": "markdown",
   "metadata": {},
   "source": [
    "## $$I = \\int_a^b f(x) dx  '\\cong ' \\int_a^b f_3 (x) dx$$"
   ]
  },
  {
   "cell_type": "markdown",
   "metadata": {},
   "source": [
    "## Para obtener\n",
    "\n"
   ]
  },
  {
   "cell_type": "markdown",
   "metadata": {},
   "source": [
    "## $$I '\\cong' \\frac{3h}{8} [f(x_0) + 3f(x_1) + 3f(x_2)+f(x_3)]$$"
   ]
  },
  {
   "cell_type": "markdown",
   "metadata": {},
   "source": [
    "## donde h = (b – a)/3. Esta ecuación se llama regla de Simpson 3/8 debido a que h se multiplica por 3/8. \n",
    "## Esta es la tercera fórmula de integración cerrada de Newton-Cotes."
   ]
  },
  {
   "cell_type": "markdown",
   "metadata": {},
   "source": [
    "## Y el error es:"
   ]
  },
  {
   "cell_type": "markdown",
   "metadata": {},
   "source": [
    "## $$E_t = - [(b – a)^5/6480)]f^4 (z)$$"
   ]
  },
  {
   "cell_type": "code",
   "execution_count": null,
   "metadata": {},
   "outputs": [],
   "source": [
    "from IPython.display import Image \n",
    "Image(filename='ejemplo_b.png',width=900, height=450)"
   ]
  },
  {
   "cell_type": "code",
   "execution_count": null,
   "metadata": {},
   "outputs": [],
   "source": [
    "from IPython.display import Image\n",
    "Image(filename='ejemplo_3.png',width=900, height=450)"
   ]
  },
  {
   "cell_type": "markdown",
   "metadata": {},
   "source": [
    "# Diagrama de flujo Simpson 1/3:\n",
    "\n",
    "\n",
    "\n"
   ]
  },
  {
   "cell_type": "code",
   "execution_count": null,
   "metadata": {},
   "outputs": [],
   "source": [
    "from IPython.display import Image\n",
    "Image(filename='dri_flujo_1-3.jpg',width=670, height=270)"
   ]
  },
  {
   "cell_type": "markdown",
   "metadata": {},
   "source": [
    "# Diagrama de flujo Simpson 3/8:\n"
   ]
  },
  {
   "cell_type": "code",
   "execution_count": null,
   "metadata": {},
   "outputs": [],
   "source": [
    "from IPython.display import Image\n",
    "Image(filename='dri_flujo_3-8.jpg',width=700, height=300)"
   ]
  },
  {
   "cell_type": "markdown",
   "metadata": {},
   "source": [
    "# ***Programa: Intregando_Por_El_Metodo_De_Simpson_1/3***"
   ]
  },
  {
   "cell_type": "code",
   "execution_count": null,
   "metadata": {},
   "outputs": [],
   "source": [
    "\n",
    "#COMENTARIO: *Crear la función que funciona como f (x)*\n",
    "def func(x):\n",
    "    from math import sqrt, exp, sin\n",
    "    #f = 1/x\n",
    "    f = exp(x)\n",
    "    #f = pow(x,4)\n",
    "    #f = 1/(x+1)\n",
    "    #f = sqrt(1+pow(x,2))\n",
    "    #f = sin(x)\n",
    "    return f\n",
    "\n",
    "    #COMENTARIO: *Creando el algoritmo*\n",
    "\n",
    "def simpson(a, b, n):\n",
    "    h = (b-a)/n\n",
    "    x = []\n",
    "    \n",
    "    #COMENTARIO: *Definición del primer primer punto*\n",
    "    pm = a+h\n",
    "    \n",
    "    #COMENTARIO: *Lista de artículos \"general\"*\n",
    "    x.append(round(pm, 1))\n",
    "    \n",
    "    #COMENTARIO: *Lista de artículos en posiciones impares*\n",
    "    x_impar = []\n",
    "    \n",
    "    #COMENTARIO: *Lista de artículos en posiciones pares*\n",
    "    x_par = []\n",
    "    \n",
    "    #COMENTARIO: *Suma de la lista de elementos pares en la función*\n",
    "    soma_par = 0\n",
    "    \n",
    "    #COMENTARIO: *Suma de la lista de elementos impares en la función*\n",
    "    soma_impar = 0\n",
    "    \n",
    "    #COMENTARIO: *Resultado de la Intregal*\n",
    "    result = 0\n",
    "    count = 0\n",
    "    \n",
    "    #COMENTARIO: *Inserta elementos en la lista general*\n",
    "    for i in range(1, n-1, 1):\n",
    "        x.append(x[i-1]+h)\n",
    "        \n",
    "    #COMENTARIO: *Inserta elementos en posiciones impares en la lista de elementos impares*\n",
    "    for i in range(0, n-1, 2):\n",
    "        x_impar.append(x[i])\n",
    "        soma_impar += func(x_impar[count])\n",
    "        count += 1\n",
    "    count = 0\n",
    "    \n",
    "    #COMENTARIO: *Inserta elementos en posiciones pares en la lista de elementos pares*\n",
    "    for i in range(1, n-1, 2):\n",
    "        x_par.append(x[i])\n",
    "        soma_par += func(x_par[count])\n",
    "        count += 1\n",
    "  \n",
    "    #COMENTARIO: *Formula*\n",
    "    result = (h/3)*(func(a)+2*(soma_par)+4*(soma_impar)+func(b))\n",
    "    print('\\n\\nLa Lista Es La Siguiente  =',x)\n",
    "    print('lista impar =', x_impar)\n",
    "    print('lista_par =', x_par)\n",
    "    print('\\n\\nEl Resultado Es El Siguiente =', result )\n",
    "    print('\\n\\n')\n",
    "simpson(0, 2, 1000)\n",
    "          "
   ]
  },
  {
   "cell_type": "markdown",
   "metadata": {},
   "source": [
    "# ***Programa: De_Doble_Precisión_Para_Integrar_Una_Función_Arbitraria_Numéricamente***"
   ]
  },
  {
   "cell_type": "code",
   "execution_count": null,
   "metadata": {},
   "outputs": [],
   "source": [
    "\n",
    "'''COMENRTARIO: *Programa de doble precisión para integrar una función arbitraria numéricamente\n",
    "   usando la regla trapezoide, la regla de Simpson y la cuadratura gaussiana*\n",
    "'''\n",
    "\n",
    "import numpy as np\n",
    "\n",
    "import matplotlib.pyplot as plt\n",
    "   \n",
    "def integra(f, a, b, n_points=10, metodo=\"trapecio\"):\n",
    "    \n",
    "    #COMENTARIO: *Genera siempre un numero impar de puntos*\n",
    "    if n_points%2 == 0:\n",
    "        n_points = n_points + 1\n",
    "\n",
    "    if metodo==\"trapecio\":\n",
    "        x = np.linspace(a, b, n_points)\n",
    "        h = x[1] - x[0]\n",
    "        w = np.ones(n_points) * h\n",
    "        w[0] = h/2\n",
    "        w[-1] = h/2\n",
    "    elif metodo==\"simpson\":\n",
    "        x = np.linspace(a, b, n_points)\n",
    "        h = x[1] - x[0]\n",
    "        w = np.ones(n_points) \n",
    "        ii = np.arange(n_points)\n",
    "        w[ii%2!=0] = 4.0*h/3.0\n",
    "        w[ii%2==0] = 2.0*h/3.0\n",
    "        w[0] = h/3\n",
    "        w[-1] = h/3\n",
    "    elif metodo==\"cuadratura\":\n",
    "        y, wprime = np.polynomial.legendre.leggauss(n_points)\n",
    "        x = 0.5*(b+a) + 0.5*(b-a)*y\n",
    "        w = 0.5*(b-a)*wprime\n",
    "    else:\n",
    "        print('metodo no implementado')\n",
    "        x = np.zeros(n_points)\n",
    "        y = np.zeros(n_points)\n",
    "\n",
    "    return np.sum(f(x)*w)\n",
    "\n",
    "def func(x):\n",
    "    return np.sin(x)\n",
    "\n",
    "def error(x):\n",
    "    return np.abs(2-x)/2\n",
    "\n",
    "#COMENTARIO: Se calcula el error relativo (epsilon = abs (numérico-exacto) / exacto) en cada caso.\n",
    "# Se presenta los datos obtenidos en forma de tabla para N = 2,10,20,40,80,160\n",
    "\n",
    "N = [2,10,20,40,80,160]\n",
    "print(\"Primera Parte\")\n",
    "out = open(\"tabla_resultados.dat\", \"w\")\n",
    "print(\"# N\\t e_T\\t e_S \\t e_G\")\n",
    "for n_points in N:\n",
    "    a = integra(func, 0, np.pi, n_points=n_points, metodo=\"trapecio\")\n",
    "    b = integra(func, 0, np.pi, n_points=n_points, metodo=\"simpson\")\n",
    "    c = integra(func, 0, np.pi, n_points=n_points, metodo=\"cuadratura\")\n",
    "    print(\"{:d}\\t {:.1e} {:.1e} {:.1e}\".format(n_points, error(a), error(b), error(c)))\n",
    "    out.write(\"{:d}\\t {:.1e} {:.1e} {:.1e}\\n\".format(n_points, error(a), error(b), error(c)))\n",
    "out.close()\n",
    "print(\"\")\n",
    "\n",
    "\n",
    "#COMENTARIO: Se realiza un gráfico de log-log de error relativo versus N\n",
    "data = np.loadtxt(\"tabla_de_los_resultados.dat\")\n",
    "plt.figure()\n",
    "plt.plot(data[:,0], data[:,1], label=\"Trapecio\")\n",
    "plt.plot(data[:,0], data[:,2], label=\"Simpson\")\n",
    "plt.plot(data[:,0], data[:,3], label=\"Cuadratura\")\n",
    "\n",
    "plt.xlabel('N')\n",
    "plt.ylabel('|error|')\n",
    "plt.loglog()\n",
    "plt.legend()\n",
    "plt.savefig(\"grafica.png\")\n",
    "\n",
    "#COMENTARIO: Se usa el diagrama o tabla para estimar la dependencia de la ley de potencia del error en N y\n",
    "# para determinar el número de decimales de precisión.\n",
    "\n",
    "for i,m in zip([1,2,3],[\"Trapecio\", \"Simpson\", \"Cuadratura\"]):\n",
    "    power_law = (np.log(data[2,i]) - np.log(data[0,i]))/(np.log(data[2,0]) - np.log(data[0,0]))\n",
    "    decimal_places = -np.log10(data[-1,i])\n",
    "    print(\"Metodo {}\".format(m))    \n",
    "    print(\"\\t Power Law: {:.1f}\".format(power_law))\n",
    "    print(\"\\t Decimal Places: {:d}\".format(int(decimal_places)))\n",
    "\n",
    "print(\"\")"
   ]
  },
  {
   "cell_type": "markdown",
   "metadata": {},
   "source": [
    "# ***Programa: Metodo_Compuesto_De _Simpson_Para_Resolver_Integales_Dobles***"
   ]
  },
  {
   "cell_type": "code",
   "execution_count": null,
   "metadata": {},
   "outputs": [],
   "source": [
    "import math\n",
    "\n",
    "#COMENTARIO: *Aqui se definen las funciones extremos de la integral mas interna*\n",
    "def c(t): r=t**2; return r;\n",
    "def d(t): r=2*t; return r;\n",
    "\n",
    "#COMENTARIO: Aqui se define la funcion de f(x,y) a integrar*\n",
    "def f(x,y):\n",
    "    r= (x**3) + (y*4);\n",
    "    return r;\n",
    "\n",
    "#COMENTARIO: *Aqui se definen los extremos a y b de la integral mas externa*\n",
    "a=0; b=2; \n",
    "\n",
    "#COMENTARIO: Enteros positivos pares para subdividir los intervalos*\n",
    "n=2**4; m=2**4;\n",
    "\n",
    "#COMENTARIO: *Procedimiento_1*\n",
    "h = (b-a)*(n**-1);\n",
    "\n",
    "J1 = 0; #COMENTARIO: *Terminos extremos*\n",
    "J2 = 0; #COMENTARIO: *Terminos pares*\n",
    "J3 = 0; #COMENTARIO: *Terminos impares*\n",
    "\n",
    "print (\"\")\n",
    "print (\"Valores aproximados de la integral doble dado por las sucesivas iteraciones\")\n",
    "print (\" \")\n",
    "\n",
    "\n",
    "\n",
    "    #COMENTARIO: *Procedimiento_2*\n",
    "\n",
    "for i in range(1,n+1,1):\n",
    "    \n",
    "    #COMENTARIO: *Procedimiento_3*\n",
    "    \n",
    "    x = a + (i*h);                     #COMENTARIO: *Metodo compuesto de Simpson para (x)*\n",
    "    HX = (d(x) - c(x))/m;\n",
    "    K1 = f(x,c(x)) + f(x,d(x));        #COMENTARIO: *Terminos extremos*\n",
    "    K2 = 0;                            #COMENTARIO: *Terminos pares*\n",
    "    K3 = 0;                            #COMENTARIO: *Terminos impares*\n",
    "    J = h*(J1+2*J2+4*J3)*(3**-1)\n",
    "    print (\"El valor aproximado de la integral es J\"+str(i)+\"= \"+str(J))  \n",
    "    \n",
    "    \n",
    "     #COMENTARIO: *Procedimiento_4*\n",
    "        \n",
    "    for j in range(1,m,1):\n",
    "            \n",
    "        #COMENTARIO: *Procedimiento_5*\n",
    "        \n",
    "        y = c(x) + j*HX;\n",
    "        Q = f(x,y);\n",
    "        \n",
    "        #COMENTARIO: *Procedimiento_6*\n",
    "        \n",
    "        if j%2==0:\n",
    "            K2 += Q;\n",
    "        else:\n",
    "                K3 += Q;\n",
    "\n",
    "      #COMENTARIO: *Procedimiento_7*\n",
    "    \n",
    "    L = (K1+2*K2+4*K3)*HX*(3**-1);\n",
    "\n",
    "    #COMENTARIO: *Procedimiento_8*\n",
    "\n",
    "    if i==0 or i==n:\n",
    "        J1 += L;\n",
    "        if i%2==0:\n",
    "            J2 += L;\n",
    "        elif i%2==1:\n",
    "                J3 += L;\n",
    "\n",
    "#COMENTARIO: *Procedimiento_9*\n",
    "\n",
    "J = h*(J1+2*J2+4*J3)*(3**-1);\n",
    "\n",
    "#COMENTARIO: *Procedimiento_10: Imprimir en consola el resultado aproximado de la integral*\n",
    "\n",
    "print (\"\")\n",
    "print (\"La integral doble tiene como valor aproximado: \"+ str(J))\n",
    "print (\"\")\n",
    "\n",
    "\n",
    "#COMENTARIO: *Comparar con el valor analitico*\n",
    "\n",
    "def Error (valor,aprox):\n",
    "     e_abs = math.fabs(valor - aprox)\n",
    "     e_rel = e_abs/valor\n",
    "     return [e_abs, e_rel]\n",
    "\n",
    "\n",
    "print (\"El error absoluto es \" + str(Error((32*(3**-1)),J)[0]))\n",
    "print (\"El error relativo es \" + str(Error((32*(3**-1)),J)[1]))"
   ]
  },
  {
   "cell_type": "markdown",
   "metadata": {},
   "source": [
    "# ***Programa: Intregal_Simpson_Compuesto***"
   ]
  },
  {
   "cell_type": "code",
   "execution_count": null,
   "metadata": {},
   "outputs": [],
   "source": [
    "import math as m\n",
    "\n",
    "'''\n",
    "    COMENTARIO:\n",
    "    \n",
    "    Método de integración Integra la función f entre x0 y xf ( Intregal_Simson_Compuesto)'''\n",
    "\n",
    "\n",
    "def IntegralSimpsonCompuesto(f, x0, xf, N):\n",
    "    \n",
    "        if (N <= 0):\n",
    "         return 0\n",
    "        elif (N % 2 != 0):\n",
    "         N += 1 \n",
    "         '''\n",
    "         COMENTARIO:\n",
    "         \n",
    "         Necesitamos un N par por lo que si no lo es recurrimos al siguiente N '''\n",
    "\n",
    "        h, suma_par, suma_impar = float(xf - x0) / N, .0, .0\n",
    "        for i in range(2, N, 2):\n",
    "           suma_impar += f(x0 + (i - 1) * h)\n",
    "           suma_par += f(x0 + i * h)\n",
    "\n",
    "           suma_impar = 4 * (suma_impar + f(x0 + (N - 1) * h))\n",
    "           suma_par *= 2\n",
    " \n",
    "        return (h / 3) * (f(x0) + f(xf) + suma_par + suma_impar)\n",
    "\n",
    "        ''' \n",
    "        COMENTRIO:\n",
    "        \n",
    "        Función a integrar (la de la circunferencia en los dos primeros cuadrantes)'''\n",
    "def f(x):\n",
    "            return m.sqrt(1-x*x)"
   ]
  },
  {
   "cell_type": "code",
   "execution_count": null,
   "metadata": {},
   "outputs": [],
   "source": [
    "            N = int(input(\"\\n\\nIntroduce el número de puntos a tomar (Solo Valores Enteros De Tres Cifras): \"))\n",
    "\n",
    "            print(\"\\n\\nLa estimación de pi es {}\".format(4.0*IntegralSimpsonCompuesto(f, 0, 1, N)))"
   ]
  },
  {
   "cell_type": "markdown",
   "metadata": {},
   "source": [
    "# CONCLUSIONES:\n"
   ]
  },
  {
   "cell_type": "markdown",
   "metadata": {},
   "source": [
    "## -      Hay dos formas diferentes de obtener fórmulas numéricas de integración\n",
    "\n",
    "## -          Interpolación: Newton-Cotes abiertas y cerradas\n",
    "\n",
    "## -         Cuadratura gausiana\n",
    "\n",
    "## -         Las fórmulas de Newton-Cotes compuestas permiten ajustar el  error deseado."
   ]
  },
  {
   "cell_type": "markdown",
   "metadata": {},
   "source": [
    "## - Las fórmulas de cuadratura se obtienen utilizando polinomios ortogonales definidos en intervalos determinados y para funciones de peso, y permiten fórmulas de mayor orden con un número menor de evaluaciones de la función.\n"
   ]
  },
  {
   "cell_type": "markdown",
   "metadata": {},
   "source": [
    "## - La integración adaptativa permite ajustar el error y variar el tamaño del paso.\n",
    "\n",
    "## - Las integrales impropias requieren usar polinomios ortogonales o combinar cambios de variables con reglas de Newton-Cotes abiertas.\n",
    "\n",
    "## - La integración en más de una dimensión se realiza combinando fórmulas de una dimensión cuando el dominio es hipercúbico o utilizando el método de Montecarlo en caso contrario."
   ]
  },
  {
   "cell_type": "markdown",
   "metadata": {},
   "source": [
    "## ~ En base a lo investigado se puede establecer lo siguiente: ~\n",
    "\n",
    "## El objetivo de los métodos de integración es poder encontrar el valor más aproximado al valor real de una integral definida calculada mediante el teorema de cálculo, es decir, encontrar el área bajo la curva de una función entre dos puntos. Estos métodos serán menor o mayormente eficientes dependiendo siempre del número de cortes que se hagan a la sección."
   ]
  },
  {
   "cell_type": "markdown",
   "metadata": {},
   "source": [
    "## La regla de Simpson de 1/3 es, a menudo, el método de preferencia, ya que alcanza una exactitud de tercer orden con sólo tres puntos en comparación con los cuatro puntos requeridos por la de 3/8, es la mas utilizada en los trabajos para evaluar numéricamente las expresiones relativas a los coeficientes de flexibilidad."
   ]
  },
  {
   "cell_type": "markdown",
   "metadata": {},
   "source": [
    "# REFERENCIAS BIBLIOGRÁFICAS:"
   ]
  },
  {
   "cell_type": "markdown",
   "metadata": {},
   "source": [
    "### Chapra, S. & Canale, R. (2007). “Métodos numéricos para ingenieros”. (5ta. ed.). McGRAW-HILL/INTERAMERICANA EDITORES, S.A. México.\n",
    "\n"
   ]
  },
  {
   "cell_type": "markdown",
   "metadata": {},
   "source": [
    "### Raffo L. Eduardo. (2005). “Métodos Numéricos Para Ciencia e Ingeniería”. Raffo Lecca editores.\n",
    "\n"
   ]
  }
 ],
 "metadata": {
  "kernelspec": {
   "display_name": "Python 3",
   "language": "python",
   "name": "python3"
  },
  "language_info": {
   "codemirror_mode": {
    "name": "ipython",
    "version": 3
   },
   "file_extension": ".py",
   "mimetype": "text/x-python",
   "name": "python",
   "nbconvert_exporter": "python",
   "pygments_lexer": "ipython3",
   "version": "3.7.7"
  }
 },
 "nbformat": 4,
 "nbformat_minor": 4
}
